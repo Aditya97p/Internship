{
 "cells": [
  {
   "cell_type": "code",
   "execution_count": 1,
   "id": "83f009f6",
   "metadata": {},
   "outputs": [],
   "source": [
    "from bs4 import BeautifulSoup\n",
    "import requests\n",
    "import pandas as pd\n",
    "import numpy as np\n",
    "import warnings\n",
    "warnings.filterwarnings('ignore')"
   ]
  },
  {
   "cell_type": "markdown",
   "id": "c64c7cd8",
   "metadata": {},
   "source": [
    "## 1) Write a python program to display all the header tags from wikipedia.org."
   ]
  },
  {
   "cell_type": "code",
   "execution_count": 2,
   "id": "5aa4fe30",
   "metadata": {},
   "outputs": [],
   "source": [
    "page = requests.get('https://en.wikipedia.org/wiki/Main_Page')"
   ]
  },
  {
   "cell_type": "code",
   "execution_count": 3,
   "id": "f6c9bb4a",
   "metadata": {},
   "outputs": [
    {
     "data": {
      "text/plain": [
       "<Response [200]>"
      ]
     },
     "execution_count": 3,
     "metadata": {},
     "output_type": "execute_result"
    }
   ],
   "source": [
    "page"
   ]
  },
  {
   "cell_type": "code",
   "execution_count": 4,
   "id": "708f47b5",
   "metadata": {},
   "outputs": [],
   "source": [
    "soup = BeautifulSoup(page.content)\n"
   ]
  },
  {
   "cell_type": "code",
   "execution_count": 5,
   "id": "7c81c7a5",
   "metadata": {},
   "outputs": [
    {
     "name": "stdout",
     "output_type": "stream",
     "text": [
      "h1 -> Main Page\n",
      "h1 -> Welcome to Wikipedia\n",
      "h2 -> From today's featured article\n",
      "h2 -> Did you know ...\n",
      "h2 -> In the news\n",
      "h2 -> On this day\n",
      "h2 -> Today's featured picture\n",
      "h2 -> Other areas of Wikipedia\n",
      "h2 -> Wikipedia's sister projects\n",
      "h2 -> Wikipedia languages\n",
      "h2 -> Navigation menu\n",
      "h3 -> Personal tools\n",
      "h3 -> Namespaces\n",
      "h3 -> Views\n",
      "h3 -> Navigation\n",
      "h3 -> Contribute\n",
      "h3 -> Tools\n",
      "h3 -> Print/export\n",
      "h3 -> In other projects\n",
      "h3 -> Languages\n"
     ]
    }
   ],
   "source": [
    "heading_tags = [\"h1\", \"h2\", \"h3\",\"h4\",\"h5\",\"h6\"]\n",
    "for tags in soup.find_all(heading_tags):\n",
    "    print(tags.name + ' -> ' + tags.text.strip())"
   ]
  },
  {
   "cell_type": "markdown",
   "id": "395d8ba9",
   "metadata": {},
   "source": [
    "## 2) Write a python program to display IMDB’s Top rated 100 movies’ data (i.e. name, rating, year of release) and make data frame."
   ]
  },
  {
   "cell_type": "code",
   "execution_count": 6,
   "id": "cada47d0",
   "metadata": {},
   "outputs": [],
   "source": [
    "page_imdb = requests.get('https://www.imdb.com/list/ls091520106/')"
   ]
  },
  {
   "cell_type": "code",
   "execution_count": 7,
   "id": "cbd886b1",
   "metadata": {},
   "outputs": [
    {
     "data": {
      "text/plain": [
       "<Response [200]>"
      ]
     },
     "execution_count": 7,
     "metadata": {},
     "output_type": "execute_result"
    }
   ],
   "source": [
    "page_imdb"
   ]
  },
  {
   "cell_type": "code",
   "execution_count": 8,
   "id": "7c755660",
   "metadata": {},
   "outputs": [],
   "source": [
    "soup_imdb = BeautifulSoup(page_imdb.content,\"html.parser\")\n"
   ]
  },
  {
   "cell_type": "code",
   "execution_count": 9,
   "id": "c3bd464a",
   "metadata": {},
   "outputs": [],
   "source": [
    "def get_movie_titles(soup_imdb):\n",
    "    \n",
    "    selection_class=\"lister-item-header\"\n",
    "    movie_title_tags=soup_imdb.find_all('h3',{'class':selection_class})\n",
    "    movie_titles=[]\n",
    "\n",
    "    for tag in movie_title_tags:\n",
    "        title = tag.find('a').text\n",
    "        movie_titles.append(title)\n",
    "        \n",
    "        \n",
    "    return movie_titles"
   ]
  },
  {
   "cell_type": "code",
   "execution_count": 10,
   "id": "50d1a3f3",
   "metadata": {},
   "outputs": [
    {
     "data": {
      "text/plain": [
       "['The Shawshank Redemption',\n",
       " 'The Godfather',\n",
       " 'The Godfather Part II',\n",
       " 'The Dark Knight',\n",
       " '12 Angry Men']"
      ]
     },
     "execution_count": 10,
     "metadata": {},
     "output_type": "execute_result"
    }
   ],
   "source": [
    "titles = get_movie_titles(soup_imdb)\n",
    "titles[:5]"
   ]
  },
  {
   "cell_type": "code",
   "execution_count": 11,
   "id": "124c51f8",
   "metadata": {},
   "outputs": [],
   "source": [
    "def get_movie_rating(soup_imdb):\n",
    "    \n",
    "    selection_class=\"ipl-rating-widget\"\n",
    "    movie_rating_tags=soup_imdb.find_all('div',{'class':selection_class})\n",
    "    movie_ratings=[]\n",
    "\n",
    "    for tag in movie_rating_tags:\n",
    "        title = tag.find('span',class_=\"ipl-rating-star__rating\").text\n",
    "        movie_ratings.append(title)\n",
    "        \n",
    "        \n",
    "    return movie_ratings"
   ]
  },
  {
   "cell_type": "code",
   "execution_count": 12,
   "id": "27703008",
   "metadata": {},
   "outputs": [
    {
     "data": {
      "text/plain": [
       "['9.3', '9.2', '9', '9', '9']"
      ]
     },
     "execution_count": 12,
     "metadata": {},
     "output_type": "execute_result"
    }
   ],
   "source": [
    "rating = get_movie_rating(soup_imdb)\n",
    "rating[:5]"
   ]
  },
  {
   "cell_type": "code",
   "execution_count": 13,
   "id": "c3f521d1",
   "metadata": {},
   "outputs": [
    {
     "data": {
      "text/plain": [
       "100"
      ]
     },
     "execution_count": 13,
     "metadata": {},
     "output_type": "execute_result"
    }
   ],
   "source": [
    "len(rating)"
   ]
  },
  {
   "cell_type": "code",
   "execution_count": 14,
   "id": "eceb54cc",
   "metadata": {},
   "outputs": [],
   "source": [
    "def get_movie_year(soup_imdb):\n",
    "    \n",
    "    selection_class=\"lister-item-header\"\n",
    "    movie_year_tags=soup_imdb.find_all('h3',{'class':selection_class})\n",
    "    movie_year=[]\n",
    "\n",
    "    for tag in movie_year_tags:\n",
    "        title = tag.find('span',class_=\"lister-item-year text-muted unbold\").text\n",
    "        movie_year.append(title)\n",
    "        \n",
    "        \n",
    "    return movie_year"
   ]
  },
  {
   "cell_type": "code",
   "execution_count": 15,
   "id": "95310a98",
   "metadata": {},
   "outputs": [
    {
     "data": {
      "text/plain": [
       "['(1994)', '(1972)', '(1974)', '(2008)', '(1957)']"
      ]
     },
     "execution_count": 15,
     "metadata": {},
     "output_type": "execute_result"
    }
   ],
   "source": [
    "year = get_movie_year(soup_imdb)\n",
    "year[:5]"
   ]
  },
  {
   "cell_type": "code",
   "execution_count": 16,
   "id": "6ffd56e8",
   "metadata": {},
   "outputs": [
    {
     "data": {
      "text/plain": [
       "100"
      ]
     },
     "execution_count": 16,
     "metadata": {},
     "output_type": "execute_result"
    }
   ],
   "source": [
    "len(year)"
   ]
  },
  {
   "cell_type": "code",
   "execution_count": 17,
   "id": "c7641e70",
   "metadata": {},
   "outputs": [],
   "source": [
    "df = pd.DataFrame({'Movie':titles,'Release_Year':year,'Ratings':rating})"
   ]
  },
  {
   "cell_type": "code",
   "execution_count": 18,
   "id": "544c53cc",
   "metadata": {},
   "outputs": [
    {
     "data": {
      "text/html": [
       "<div>\n",
       "<style scoped>\n",
       "    .dataframe tbody tr th:only-of-type {\n",
       "        vertical-align: middle;\n",
       "    }\n",
       "\n",
       "    .dataframe tbody tr th {\n",
       "        vertical-align: top;\n",
       "    }\n",
       "\n",
       "    .dataframe thead th {\n",
       "        text-align: right;\n",
       "    }\n",
       "</style>\n",
       "<table border=\"1\" class=\"dataframe\">\n",
       "  <thead>\n",
       "    <tr style=\"text-align: right;\">\n",
       "      <th></th>\n",
       "      <th>Movie</th>\n",
       "      <th>Release_Year</th>\n",
       "      <th>Ratings</th>\n",
       "    </tr>\n",
       "  </thead>\n",
       "  <tbody>\n",
       "    <tr>\n",
       "      <th>0</th>\n",
       "      <td>The Shawshank Redemption</td>\n",
       "      <td>(1994)</td>\n",
       "      <td>9.3</td>\n",
       "    </tr>\n",
       "    <tr>\n",
       "      <th>1</th>\n",
       "      <td>The Godfather</td>\n",
       "      <td>(1972)</td>\n",
       "      <td>9.2</td>\n",
       "    </tr>\n",
       "    <tr>\n",
       "      <th>2</th>\n",
       "      <td>The Godfather Part II</td>\n",
       "      <td>(1974)</td>\n",
       "      <td>9</td>\n",
       "    </tr>\n",
       "    <tr>\n",
       "      <th>3</th>\n",
       "      <td>The Dark Knight</td>\n",
       "      <td>(2008)</td>\n",
       "      <td>9</td>\n",
       "    </tr>\n",
       "    <tr>\n",
       "      <th>4</th>\n",
       "      <td>12 Angry Men</td>\n",
       "      <td>(1957)</td>\n",
       "      <td>9</td>\n",
       "    </tr>\n",
       "  </tbody>\n",
       "</table>\n",
       "</div>"
      ],
      "text/plain": [
       "                      Movie Release_Year Ratings\n",
       "0  The Shawshank Redemption       (1994)     9.3\n",
       "1             The Godfather       (1972)     9.2\n",
       "2     The Godfather Part II       (1974)       9\n",
       "3           The Dark Knight       (2008)       9\n",
       "4              12 Angry Men       (1957)       9"
      ]
     },
     "execution_count": 18,
     "metadata": {},
     "output_type": "execute_result"
    }
   ],
   "source": [
    "df.head()"
   ]
  },
  {
   "cell_type": "code",
   "execution_count": 19,
   "id": "18d807e4",
   "metadata": {},
   "outputs": [
    {
     "data": {
      "text/plain": [
       "(100, 3)"
      ]
     },
     "execution_count": 19,
     "metadata": {},
     "output_type": "execute_result"
    }
   ],
   "source": [
    "df.shape"
   ]
  },
  {
   "cell_type": "markdown",
   "id": "f69f6319",
   "metadata": {},
   "source": [
    "## 3) Write a python program to display IMDB’s Top rated 100 Indian movies’ data (i.e. name, rating, year of release) and make data frame."
   ]
  },
  {
   "cell_type": "code",
   "execution_count": 20,
   "id": "f47c3564",
   "metadata": {},
   "outputs": [
    {
     "data": {
      "text/plain": [
       "<Response [200]>"
      ]
     },
     "execution_count": 20,
     "metadata": {},
     "output_type": "execute_result"
    }
   ],
   "source": [
    "page_imdb_1 = requests.get('https://www.imdb.com/list/ls056092300/')\n",
    "page_imdb_1"
   ]
  },
  {
   "cell_type": "code",
   "execution_count": 21,
   "id": "9093fed7",
   "metadata": {},
   "outputs": [],
   "source": [
    "soup_imdb_1 = BeautifulSoup(page_imdb_1.content,\"html.parser\")\n"
   ]
  },
  {
   "cell_type": "code",
   "execution_count": 22,
   "id": "2fb00a3c",
   "metadata": {},
   "outputs": [],
   "source": [
    "def get_movie_titles(soup_imdb_1):\n",
    "    \n",
    "    selection_class=\"lister-item-header\"\n",
    "    movie_title_tags=soup_imdb_1.find_all('h3',{'class':selection_class})\n",
    "    movie_titles=[]\n",
    "\n",
    "    for tag in movie_title_tags:\n",
    "        title = tag.find('a').text\n",
    "        movie_titles.append(title)\n",
    "        \n",
    "        \n",
    "    return movie_titles"
   ]
  },
  {
   "cell_type": "code",
   "execution_count": 23,
   "id": "929c0c6b",
   "metadata": {},
   "outputs": [
    {
     "data": {
      "text/plain": [
       "['Ship of Theseus',\n",
       " 'Iruvar',\n",
       " 'Kaagaz Ke Phool',\n",
       " 'Lagaan: Once Upon a Time in India',\n",
       " 'Pather Panchali']"
      ]
     },
     "execution_count": 23,
     "metadata": {},
     "output_type": "execute_result"
    }
   ],
   "source": [
    "titles = get_movie_titles(soup_imdb_1)\n",
    "titles[:5]"
   ]
  },
  {
   "cell_type": "code",
   "execution_count": 24,
   "id": "05b49755",
   "metadata": {},
   "outputs": [],
   "source": [
    "def get_movie_rating(soup_imdb_1):\n",
    "    \n",
    "    selection_class=\"ipl-rating-widget\"\n",
    "    movie_rating_tags=soup_imdb_1.find_all('div',{'class':selection_class})\n",
    "    movie_ratings=[]\n",
    "\n",
    "    for tag in movie_rating_tags:\n",
    "        title = tag.find('span',class_=\"ipl-rating-star__rating\").text\n",
    "        movie_ratings.append(title)\n",
    "        \n",
    "        \n",
    "    return movie_ratings"
   ]
  },
  {
   "cell_type": "code",
   "execution_count": 25,
   "id": "c1b6a752",
   "metadata": {},
   "outputs": [
    {
     "data": {
      "text/plain": [
       "['8', '8.4', '7.8', '8.1', '8.3']"
      ]
     },
     "execution_count": 25,
     "metadata": {},
     "output_type": "execute_result"
    }
   ],
   "source": [
    "rating = get_movie_rating(soup_imdb_1)\n",
    "rating[:5]"
   ]
  },
  {
   "cell_type": "code",
   "execution_count": 26,
   "id": "6c8f4249",
   "metadata": {},
   "outputs": [],
   "source": [
    "def get_movie_year(soup_imdb_1):\n",
    "    \n",
    "    selection_class=\"lister-item-header\"\n",
    "    movie_year_tags=soup_imdb_1.find_all('h3',{'class':selection_class})\n",
    "    movie_year=[]\n",
    "\n",
    "    for tag in movie_year_tags:\n",
    "        title = tag.find('span',class_=\"lister-item-year text-muted unbold\").text\n",
    "        movie_year.append(title)\n",
    "        \n",
    "        \n",
    "    return movie_year"
   ]
  },
  {
   "cell_type": "code",
   "execution_count": 27,
   "id": "159bc0fd",
   "metadata": {},
   "outputs": [
    {
     "data": {
      "text/plain": [
       "['(2012)', '(1997)', '(1959)', '(2001)', '(1955)']"
      ]
     },
     "execution_count": 27,
     "metadata": {},
     "output_type": "execute_result"
    }
   ],
   "source": [
    "year = get_movie_year(soup_imdb_1)\n",
    "year[:5]"
   ]
  },
  {
   "cell_type": "code",
   "execution_count": 28,
   "id": "6cfa70fa",
   "metadata": {},
   "outputs": [
    {
     "data": {
      "text/html": [
       "<div>\n",
       "<style scoped>\n",
       "    .dataframe tbody tr th:only-of-type {\n",
       "        vertical-align: middle;\n",
       "    }\n",
       "\n",
       "    .dataframe tbody tr th {\n",
       "        vertical-align: top;\n",
       "    }\n",
       "\n",
       "    .dataframe thead th {\n",
       "        text-align: right;\n",
       "    }\n",
       "</style>\n",
       "<table border=\"1\" class=\"dataframe\">\n",
       "  <thead>\n",
       "    <tr style=\"text-align: right;\">\n",
       "      <th></th>\n",
       "      <th>Movie</th>\n",
       "      <th>Release_Year</th>\n",
       "      <th>Ratings</th>\n",
       "    </tr>\n",
       "  </thead>\n",
       "  <tbody>\n",
       "    <tr>\n",
       "      <th>0</th>\n",
       "      <td>Ship of Theseus</td>\n",
       "      <td>(2012)</td>\n",
       "      <td>8</td>\n",
       "    </tr>\n",
       "    <tr>\n",
       "      <th>1</th>\n",
       "      <td>Iruvar</td>\n",
       "      <td>(1997)</td>\n",
       "      <td>8.4</td>\n",
       "    </tr>\n",
       "    <tr>\n",
       "      <th>2</th>\n",
       "      <td>Kaagaz Ke Phool</td>\n",
       "      <td>(1959)</td>\n",
       "      <td>7.8</td>\n",
       "    </tr>\n",
       "    <tr>\n",
       "      <th>3</th>\n",
       "      <td>Lagaan: Once Upon a Time in India</td>\n",
       "      <td>(2001)</td>\n",
       "      <td>8.1</td>\n",
       "    </tr>\n",
       "    <tr>\n",
       "      <th>4</th>\n",
       "      <td>Pather Panchali</td>\n",
       "      <td>(1955)</td>\n",
       "      <td>8.3</td>\n",
       "    </tr>\n",
       "  </tbody>\n",
       "</table>\n",
       "</div>"
      ],
      "text/plain": [
       "                               Movie Release_Year Ratings\n",
       "0                    Ship of Theseus       (2012)       8\n",
       "1                             Iruvar       (1997)     8.4\n",
       "2                    Kaagaz Ke Phool       (1959)     7.8\n",
       "3  Lagaan: Once Upon a Time in India       (2001)     8.1\n",
       "4                    Pather Panchali       (1955)     8.3"
      ]
     },
     "execution_count": 28,
     "metadata": {},
     "output_type": "execute_result"
    }
   ],
   "source": [
    "df = pd.DataFrame({'Movie':titles,'Release_Year':year,'Ratings':rating})\n",
    "\n",
    "df.head()"
   ]
  },
  {
   "cell_type": "code",
   "execution_count": 29,
   "id": "afff8a9a",
   "metadata": {},
   "outputs": [
    {
     "data": {
      "text/plain": [
       "(100, 3)"
      ]
     },
     "execution_count": 29,
     "metadata": {},
     "output_type": "execute_result"
    }
   ],
   "source": [
    "df.shape"
   ]
  },
  {
   "cell_type": "markdown",
   "id": "723973af",
   "metadata": {},
   "source": [
    "## 4) Write s python program to display list of respected former presidents of India(i.e. Name , Term of office) from https://presidentofindia.nic.in/former-presidents.htm\n"
   ]
  },
  {
   "cell_type": "code",
   "execution_count": 30,
   "id": "cce6f929",
   "metadata": {},
   "outputs": [
    {
     "data": {
      "text/plain": [
       "<Response [200]>"
      ]
     },
     "execution_count": 30,
     "metadata": {},
     "output_type": "execute_result"
    }
   ],
   "source": [
    "page_p = requests.get('https://presidentofindia.nic.in/former-presidents.htm')\n",
    "\n",
    "page_p"
   ]
  },
  {
   "cell_type": "code",
   "execution_count": 31,
   "id": "ec1577e4",
   "metadata": {
    "scrolled": false
   },
   "outputs": [],
   "source": [
    "soup_p = BeautifulSoup(page_p.content,\"html.parser\")"
   ]
  },
  {
   "cell_type": "code",
   "execution_count": null,
   "id": "65f4c9a8",
   "metadata": {},
   "outputs": [],
   "source": []
  },
  {
   "cell_type": "code",
   "execution_count": 32,
   "id": "d718fe50",
   "metadata": {},
   "outputs": [],
   "source": [
    "def get_president_name(soup_p):\n",
    "    \n",
    "    selection_class=\"presidentListing\"\n",
    "    name_tags=soup_p.find_all('div',{'class':selection_class})\n",
    "    name=[]\n",
    "\n",
    "    for tag in name_tags:\n",
    "        title = tag.find('h3').text.split(\"(\")[0]\n",
    "        name.append(title)\n",
    "        \n",
    "        \n",
    "    return name"
   ]
  },
  {
   "cell_type": "code",
   "execution_count": 33,
   "id": "cd0b7d45",
   "metadata": {},
   "outputs": [
    {
     "data": {
      "text/plain": [
       "['Shri Ram Nath Kovind ',\n",
       " 'Shri Pranab Mukherjee ',\n",
       " 'Smt Pratibha Devisingh Patil ',\n",
       " 'DR. A.P.J. Abdul Kalam ',\n",
       " 'Shri K. R. Narayanan ']"
      ]
     },
     "execution_count": 33,
     "metadata": {},
     "output_type": "execute_result"
    }
   ],
   "source": [
    "name = get_president_name(soup_p)\n",
    "\n",
    "name[:5]"
   ]
  },
  {
   "cell_type": "code",
   "execution_count": 34,
   "id": "40a8a75e",
   "metadata": {},
   "outputs": [],
   "source": [
    "def get_president_term(soup_p):\n",
    "    \n",
    "    selection_class=\"presidentListing\"\n",
    "    name_tags=soup_p.find_all('div',{'class':selection_class})\n",
    "    term_from=[]\n",
    "\n",
    "    for tag in name_tags:\n",
    "        title = tag.find('p').text.split(\":\")[1]\n",
    "        term_from.append(title)\n",
    "        \n",
    "        \n",
    "    return term_from"
   ]
  },
  {
   "cell_type": "code",
   "execution_count": 35,
   "id": "a67abdb7",
   "metadata": {},
   "outputs": [
    {
     "data": {
      "text/plain": [
       "[' 25 July, 2017 to 25 July, 2022 ',\n",
       " ' 25 July, 2012 to 25 July, 2017 ',\n",
       " ' 25 July, 2007 to 25 July, 2012 ',\n",
       " ' 25 July, 2002 to 25 July, 2007 ',\n",
       " ' 25 July, 1997 to 25 July, 2002 ']"
      ]
     },
     "execution_count": 35,
     "metadata": {},
     "output_type": "execute_result"
    }
   ],
   "source": [
    "term = get_president_term(soup_p)\n",
    "\n",
    "term[:5]"
   ]
  },
  {
   "cell_type": "code",
   "execution_count": 36,
   "id": "1e0104e2",
   "metadata": {},
   "outputs": [
    {
     "data": {
      "text/html": [
       "<div>\n",
       "<style scoped>\n",
       "    .dataframe tbody tr th:only-of-type {\n",
       "        vertical-align: middle;\n",
       "    }\n",
       "\n",
       "    .dataframe tbody tr th {\n",
       "        vertical-align: top;\n",
       "    }\n",
       "\n",
       "    .dataframe thead th {\n",
       "        text-align: right;\n",
       "    }\n",
       "</style>\n",
       "<table border=\"1\" class=\"dataframe\">\n",
       "  <thead>\n",
       "    <tr style=\"text-align: right;\">\n",
       "      <th></th>\n",
       "      <th>Name</th>\n",
       "      <th>Term Of Service</th>\n",
       "    </tr>\n",
       "  </thead>\n",
       "  <tbody>\n",
       "    <tr>\n",
       "      <th>0</th>\n",
       "      <td>Shri Ram Nath Kovind</td>\n",
       "      <td>25 July, 2017 to 25 July, 2022</td>\n",
       "    </tr>\n",
       "    <tr>\n",
       "      <th>1</th>\n",
       "      <td>Shri Pranab Mukherjee</td>\n",
       "      <td>25 July, 2012 to 25 July, 2017</td>\n",
       "    </tr>\n",
       "    <tr>\n",
       "      <th>2</th>\n",
       "      <td>Smt Pratibha Devisingh Patil</td>\n",
       "      <td>25 July, 2007 to 25 July, 2012</td>\n",
       "    </tr>\n",
       "    <tr>\n",
       "      <th>3</th>\n",
       "      <td>DR. A.P.J. Abdul Kalam</td>\n",
       "      <td>25 July, 2002 to 25 July, 2007</td>\n",
       "    </tr>\n",
       "    <tr>\n",
       "      <th>4</th>\n",
       "      <td>Shri K. R. Narayanan</td>\n",
       "      <td>25 July, 1997 to 25 July, 2002</td>\n",
       "    </tr>\n",
       "  </tbody>\n",
       "</table>\n",
       "</div>"
      ],
      "text/plain": [
       "                            Name                   Term Of Service\n",
       "0          Shri Ram Nath Kovind    25 July, 2017 to 25 July, 2022 \n",
       "1         Shri Pranab Mukherjee    25 July, 2012 to 25 July, 2017 \n",
       "2  Smt Pratibha Devisingh Patil    25 July, 2007 to 25 July, 2012 \n",
       "3        DR. A.P.J. Abdul Kalam    25 July, 2002 to 25 July, 2007 \n",
       "4          Shri K. R. Narayanan    25 July, 1997 to 25 July, 2002 "
      ]
     },
     "execution_count": 36,
     "metadata": {},
     "output_type": "execute_result"
    }
   ],
   "source": [
    "df = pd.DataFrame({'Name':name,'Term Of Service':term})\n",
    "\n",
    "df.head()"
   ]
  },
  {
   "cell_type": "markdown",
   "id": "9bb4132c",
   "metadata": {},
   "source": [
    "## 5) Write a python program to scrape cricket rankings from icc-cricket.com."
   ]
  },
  {
   "cell_type": "code",
   "execution_count": 37,
   "id": "ecc35aab",
   "metadata": {},
   "outputs": [
    {
     "data": {
      "text/plain": [
       "<Response [200]>"
      ]
     },
     "execution_count": 37,
     "metadata": {},
     "output_type": "execute_result"
    }
   ],
   "source": [
    "page_cri = requests.get('https://www.icc-cricket.com/rankings/mens/team-rankings/odi')\n",
    "\n",
    "page_cri"
   ]
  },
  {
   "cell_type": "code",
   "execution_count": 38,
   "id": "7cd71aba",
   "metadata": {},
   "outputs": [],
   "source": [
    "soup_cri = BeautifulSoup(page_cri.content,\"html.parser\")\n",
    "\n"
   ]
  },
  {
   "cell_type": "markdown",
   "id": "37dba63e",
   "metadata": {},
   "source": [
    "### a) Top 10 ODI teams in men’s cricket along with the records for matches, points and rating"
   ]
  },
  {
   "cell_type": "code",
   "execution_count": 39,
   "id": "81d913c4",
   "metadata": {},
   "outputs": [],
   "source": [
    "table = soup_cri.find_all('table')"
   ]
  },
  {
   "cell_type": "code",
   "execution_count": 40,
   "id": "14289067",
   "metadata": {},
   "outputs": [
    {
     "data": {
      "text/html": [
       "<div>\n",
       "<style scoped>\n",
       "    .dataframe tbody tr th:only-of-type {\n",
       "        vertical-align: middle;\n",
       "    }\n",
       "\n",
       "    .dataframe tbody tr th {\n",
       "        vertical-align: top;\n",
       "    }\n",
       "\n",
       "    .dataframe thead th {\n",
       "        text-align: right;\n",
       "    }\n",
       "</style>\n",
       "<table border=\"1\" class=\"dataframe\">\n",
       "  <thead>\n",
       "    <tr style=\"text-align: right;\">\n",
       "      <th></th>\n",
       "      <th>Pos</th>\n",
       "      <th>Team T</th>\n",
       "      <th>Matches M</th>\n",
       "      <th>Points P</th>\n",
       "      <th>Rating R</th>\n",
       "    </tr>\n",
       "  </thead>\n",
       "  <tbody>\n",
       "    <tr>\n",
       "      <th>0</th>\n",
       "      <td>1</td>\n",
       "      <td>England ENG</td>\n",
       "      <td>27</td>\n",
       "      <td>3226</td>\n",
       "      <td>119</td>\n",
       "    </tr>\n",
       "    <tr>\n",
       "      <th>1</th>\n",
       "      <td>2</td>\n",
       "      <td>New Zealand NZ</td>\n",
       "      <td>22</td>\n",
       "      <td>2508</td>\n",
       "      <td>114</td>\n",
       "    </tr>\n",
       "    <tr>\n",
       "      <th>2</th>\n",
       "      <td>3</td>\n",
       "      <td>India IND</td>\n",
       "      <td>34</td>\n",
       "      <td>3802</td>\n",
       "      <td>112</td>\n",
       "    </tr>\n",
       "    <tr>\n",
       "      <th>3</th>\n",
       "      <td>4</td>\n",
       "      <td>Pakistan PAK</td>\n",
       "      <td>22</td>\n",
       "      <td>2354</td>\n",
       "      <td>107</td>\n",
       "    </tr>\n",
       "    <tr>\n",
       "      <th>4</th>\n",
       "      <td>5</td>\n",
       "      <td>Australia AUS</td>\n",
       "      <td>29</td>\n",
       "      <td>3071</td>\n",
       "      <td>106</td>\n",
       "    </tr>\n",
       "    <tr>\n",
       "      <th>5</th>\n",
       "      <td>6</td>\n",
       "      <td>South Africa SA</td>\n",
       "      <td>24</td>\n",
       "      <td>2392</td>\n",
       "      <td>100</td>\n",
       "    </tr>\n",
       "    <tr>\n",
       "      <th>6</th>\n",
       "      <td>7</td>\n",
       "      <td>Bangladesh BAN</td>\n",
       "      <td>30</td>\n",
       "      <td>2753</td>\n",
       "      <td>92</td>\n",
       "    </tr>\n",
       "    <tr>\n",
       "      <th>7</th>\n",
       "      <td>8</td>\n",
       "      <td>Sri Lanka SL</td>\n",
       "      <td>29</td>\n",
       "      <td>2658</td>\n",
       "      <td>92</td>\n",
       "    </tr>\n",
       "    <tr>\n",
       "      <th>8</th>\n",
       "      <td>9</td>\n",
       "      <td>West Indies WI</td>\n",
       "      <td>41</td>\n",
       "      <td>2902</td>\n",
       "      <td>71</td>\n",
       "    </tr>\n",
       "    <tr>\n",
       "      <th>9</th>\n",
       "      <td>10</td>\n",
       "      <td>Afghanistan AFG</td>\n",
       "      <td>18</td>\n",
       "      <td>1238</td>\n",
       "      <td>69</td>\n",
       "    </tr>\n",
       "  </tbody>\n",
       "</table>\n",
       "</div>"
      ],
      "text/plain": [
       "   Pos           Team T  Matches M  Points P  Rating R\n",
       "0    1      England ENG         27      3226       119\n",
       "1    2   New Zealand NZ         22      2508       114\n",
       "2    3        India IND         34      3802       112\n",
       "3    4     Pakistan PAK         22      2354       107\n",
       "4    5    Australia AUS         29      3071       106\n",
       "5    6  South Africa SA         24      2392       100\n",
       "6    7   Bangladesh BAN         30      2753        92\n",
       "7    8     Sri Lanka SL         29      2658        92\n",
       "8    9   West Indies WI         41      2902        71\n",
       "9   10  Afghanistan AFG         18      1238        69"
      ]
     },
     "execution_count": 40,
     "metadata": {},
     "output_type": "execute_result"
    }
   ],
   "source": [
    "df = pd.read_html(str(table))[0]\n",
    "df.head(10)"
   ]
  },
  {
   "cell_type": "markdown",
   "id": "c592fabd",
   "metadata": {},
   "source": [
    "## b) Top 10 ODI Batsmen along with the records of their team and rating"
   ]
  },
  {
   "cell_type": "code",
   "execution_count": 41,
   "id": "ba9eef3e",
   "metadata": {},
   "outputs": [
    {
     "data": {
      "text/plain": [
       "<Response [200]>"
      ]
     },
     "execution_count": 41,
     "metadata": {},
     "output_type": "execute_result"
    }
   ],
   "source": [
    "page_bat = requests.get('https://www.icc-cricket.com/rankings/mens/player-rankings/odi')\n",
    "\n",
    "page_bat"
   ]
  },
  {
   "cell_type": "code",
   "execution_count": 42,
   "id": "2ae31605",
   "metadata": {},
   "outputs": [],
   "source": [
    "soup_bat = BeautifulSoup(page_bat.content,\"html.parser\")\n"
   ]
  },
  {
   "cell_type": "code",
   "execution_count": 43,
   "id": "d01bc7f0",
   "metadata": {},
   "outputs": [],
   "source": [
    "table = soup_bat.find_all('table')"
   ]
  },
  {
   "cell_type": "code",
   "execution_count": 44,
   "id": "03e39b32",
   "metadata": {},
   "outputs": [
    {
     "data": {
      "text/html": [
       "<div>\n",
       "<style scoped>\n",
       "    .dataframe tbody tr th:only-of-type {\n",
       "        vertical-align: middle;\n",
       "    }\n",
       "\n",
       "    .dataframe tbody tr th {\n",
       "        vertical-align: top;\n",
       "    }\n",
       "\n",
       "    .dataframe thead th {\n",
       "        text-align: right;\n",
       "    }\n",
       "</style>\n",
       "<table border=\"1\" class=\"dataframe\">\n",
       "  <thead>\n",
       "    <tr style=\"text-align: right;\">\n",
       "      <th></th>\n",
       "      <th>Pos</th>\n",
       "      <th>Player</th>\n",
       "      <th>Team</th>\n",
       "      <th>Rating</th>\n",
       "    </tr>\n",
       "  </thead>\n",
       "  <tbody>\n",
       "    <tr>\n",
       "      <th>0</th>\n",
       "      <td>2  (0)</td>\n",
       "      <td>Imam-ul-Haq</td>\n",
       "      <td>PAK</td>\n",
       "      <td>779</td>\n",
       "    </tr>\n",
       "    <tr>\n",
       "      <th>1</th>\n",
       "      <td>3  (0)</td>\n",
       "      <td>Rassie van der Dussen</td>\n",
       "      <td>SA</td>\n",
       "      <td>766</td>\n",
       "    </tr>\n",
       "    <tr>\n",
       "      <th>2</th>\n",
       "      <td>4  (0)</td>\n",
       "      <td>Quinton de Kock</td>\n",
       "      <td>SA</td>\n",
       "      <td>759</td>\n",
       "    </tr>\n",
       "    <tr>\n",
       "      <th>3</th>\n",
       "      <td>5  (0)</td>\n",
       "      <td>Jonny Bairstow</td>\n",
       "      <td>ENG</td>\n",
       "      <td>732</td>\n",
       "    </tr>\n",
       "    <tr>\n",
       "      <th>4</th>\n",
       "      <td>6  (0)</td>\n",
       "      <td>David Warner</td>\n",
       "      <td>AUS</td>\n",
       "      <td>725</td>\n",
       "    </tr>\n",
       "    <tr>\n",
       "      <th>5</th>\n",
       "      <td>7  (0)</td>\n",
       "      <td>Virat Kohli</td>\n",
       "      <td>IND</td>\n",
       "      <td>722</td>\n",
       "    </tr>\n",
       "    <tr>\n",
       "      <th>6</th>\n",
       "      <td>8  (0)</td>\n",
       "      <td>Rohit Sharma</td>\n",
       "      <td>IND</td>\n",
       "      <td>718</td>\n",
       "    </tr>\n",
       "    <tr>\n",
       "      <th>7</th>\n",
       "      <td>9  (0)</td>\n",
       "      <td>Ross Taylor</td>\n",
       "      <td>NZ</td>\n",
       "      <td>701</td>\n",
       "    </tr>\n",
       "    <tr>\n",
       "      <th>8</th>\n",
       "      <td>10  (0)</td>\n",
       "      <td>Steve Smith</td>\n",
       "      <td>AUS</td>\n",
       "      <td>697</td>\n",
       "    </tr>\n",
       "  </tbody>\n",
       "</table>\n",
       "</div>"
      ],
      "text/plain": [
       "       Pos                 Player Team  Rating\n",
       "0   2  (0)            Imam-ul-Haq  PAK     779\n",
       "1   3  (0)  Rassie van der Dussen   SA     766\n",
       "2   4  (0)        Quinton de Kock   SA     759\n",
       "3   5  (0)         Jonny Bairstow  ENG     732\n",
       "4   6  (0)           David Warner  AUS     725\n",
       "5   7  (0)            Virat Kohli  IND     722\n",
       "6   8  (0)           Rohit Sharma  IND     718\n",
       "7   9  (0)            Ross Taylor   NZ     701\n",
       "8  10  (0)            Steve Smith  AUS     697"
      ]
     },
     "execution_count": 44,
     "metadata": {},
     "output_type": "execute_result"
    }
   ],
   "source": [
    "df = pd.read_html(str(table))[0]\n",
    "df.head(10)"
   ]
  },
  {
   "cell_type": "markdown",
   "id": "61ec8604",
   "metadata": {},
   "source": [
    "## 6) Write a python program to scrape cricket rankings from icc-cricket.com. You have to scrape:"
   ]
  },
  {
   "cell_type": "markdown",
   "id": "09d30ba7",
   "metadata": {},
   "source": [
    "## a) Top 10 ODI teams in women’s cricket along with the records for matches, points and rating."
   ]
  },
  {
   "cell_type": "code",
   "execution_count": 45,
   "id": "88d8d0e7",
   "metadata": {},
   "outputs": [
    {
     "data": {
      "text/plain": [
       "<Response [200]>"
      ]
     },
     "execution_count": 45,
     "metadata": {},
     "output_type": "execute_result"
    }
   ],
   "source": [
    "page_wcri = requests.get('https://www.icc-cricket.com/rankings/womens/team-rankings/odi')\n",
    "page_wcri"
   ]
  },
  {
   "cell_type": "code",
   "execution_count": 46,
   "id": "09aa0d0c",
   "metadata": {},
   "outputs": [],
   "source": [
    "soup_wcri = BeautifulSoup(page_wcri.content,\"html.parser\")\n"
   ]
  },
  {
   "cell_type": "code",
   "execution_count": 47,
   "id": "2b29af59",
   "metadata": {},
   "outputs": [],
   "source": [
    "table = soup_wcri.find_all('table')\n"
   ]
  },
  {
   "cell_type": "code",
   "execution_count": 48,
   "id": "0b9f744e",
   "metadata": {},
   "outputs": [
    {
     "data": {
      "text/html": [
       "<div>\n",
       "<style scoped>\n",
       "    .dataframe tbody tr th:only-of-type {\n",
       "        vertical-align: middle;\n",
       "    }\n",
       "\n",
       "    .dataframe tbody tr th {\n",
       "        vertical-align: top;\n",
       "    }\n",
       "\n",
       "    .dataframe thead th {\n",
       "        text-align: right;\n",
       "    }\n",
       "</style>\n",
       "<table border=\"1\" class=\"dataframe\">\n",
       "  <thead>\n",
       "    <tr style=\"text-align: right;\">\n",
       "      <th></th>\n",
       "      <th>Pos</th>\n",
       "      <th>Team T</th>\n",
       "      <th>Matches M</th>\n",
       "      <th>Points P</th>\n",
       "      <th>Rating R</th>\n",
       "    </tr>\n",
       "  </thead>\n",
       "  <tbody>\n",
       "    <tr>\n",
       "      <th>0</th>\n",
       "      <td>1</td>\n",
       "      <td>Australia AUS</td>\n",
       "      <td>18</td>\n",
       "      <td>3061</td>\n",
       "      <td>170</td>\n",
       "    </tr>\n",
       "    <tr>\n",
       "      <th>1</th>\n",
       "      <td>2</td>\n",
       "      <td>South Africa SA</td>\n",
       "      <td>26</td>\n",
       "      <td>3098</td>\n",
       "      <td>119</td>\n",
       "    </tr>\n",
       "    <tr>\n",
       "      <th>2</th>\n",
       "      <td>3</td>\n",
       "      <td>England ENG</td>\n",
       "      <td>25</td>\n",
       "      <td>2904</td>\n",
       "      <td>116</td>\n",
       "    </tr>\n",
       "    <tr>\n",
       "      <th>3</th>\n",
       "      <td>4</td>\n",
       "      <td>India IND</td>\n",
       "      <td>27</td>\n",
       "      <td>2820</td>\n",
       "      <td>104</td>\n",
       "    </tr>\n",
       "    <tr>\n",
       "      <th>4</th>\n",
       "      <td>5</td>\n",
       "      <td>New Zealand NZ</td>\n",
       "      <td>24</td>\n",
       "      <td>2425</td>\n",
       "      <td>101</td>\n",
       "    </tr>\n",
       "    <tr>\n",
       "      <th>5</th>\n",
       "      <td>6</td>\n",
       "      <td>West Indies WI</td>\n",
       "      <td>24</td>\n",
       "      <td>2334</td>\n",
       "      <td>97</td>\n",
       "    </tr>\n",
       "    <tr>\n",
       "      <th>6</th>\n",
       "      <td>7</td>\n",
       "      <td>Bangladesh BAN</td>\n",
       "      <td>12</td>\n",
       "      <td>932</td>\n",
       "      <td>78</td>\n",
       "    </tr>\n",
       "    <tr>\n",
       "      <th>7</th>\n",
       "      <td>8</td>\n",
       "      <td>Pakistan PAK</td>\n",
       "      <td>24</td>\n",
       "      <td>1519</td>\n",
       "      <td>63</td>\n",
       "    </tr>\n",
       "    <tr>\n",
       "      <th>8</th>\n",
       "      <td>9</td>\n",
       "      <td>Sri Lanka SL</td>\n",
       "      <td>8</td>\n",
       "      <td>353</td>\n",
       "      <td>44</td>\n",
       "    </tr>\n",
       "    <tr>\n",
       "      <th>9</th>\n",
       "      <td>10</td>\n",
       "      <td>Ireland IRE</td>\n",
       "      <td>14</td>\n",
       "      <td>548</td>\n",
       "      <td>39</td>\n",
       "    </tr>\n",
       "  </tbody>\n",
       "</table>\n",
       "</div>"
      ],
      "text/plain": [
       "   Pos           Team T  Matches M  Points P  Rating R\n",
       "0    1    Australia AUS         18      3061       170\n",
       "1    2  South Africa SA         26      3098       119\n",
       "2    3      England ENG         25      2904       116\n",
       "3    4        India IND         27      2820       104\n",
       "4    5   New Zealand NZ         24      2425       101\n",
       "5    6   West Indies WI         24      2334        97\n",
       "6    7   Bangladesh BAN         12       932        78\n",
       "7    8     Pakistan PAK         24      1519        63\n",
       "8    9     Sri Lanka SL          8       353        44\n",
       "9   10      Ireland IRE         14       548        39"
      ]
     },
     "execution_count": 48,
     "metadata": {},
     "output_type": "execute_result"
    }
   ],
   "source": [
    "df = pd.read_html(str(table))[0]\n",
    "df.head(10)"
   ]
  },
  {
   "cell_type": "markdown",
   "id": "c46437e0",
   "metadata": {},
   "source": [
    "## 7) Write a python program to scrape mentioned news details from https://www.cnbc.com/world/?region=world :\n",
    "## i) Headline\n",
    "## ii) Time\n",
    "## iii) News Link"
   ]
  },
  {
   "cell_type": "code",
   "execution_count": 49,
   "id": "cc2578b4",
   "metadata": {},
   "outputs": [
    {
     "data": {
      "text/plain": [
       "<Response [200]>"
      ]
     },
     "execution_count": 49,
     "metadata": {},
     "output_type": "execute_result"
    }
   ],
   "source": [
    "page_news = requests.get('https://www.cnbc.com/world/')\n",
    "\n",
    "page_news"
   ]
  },
  {
   "cell_type": "code",
   "execution_count": 50,
   "id": "be71f934",
   "metadata": {},
   "outputs": [],
   "source": [
    "soup_news = BeautifulSoup(page_news.content,\"html.parser\")\n",
    "\n"
   ]
  },
  {
   "cell_type": "code",
   "execution_count": 51,
   "id": "c0970871",
   "metadata": {},
   "outputs": [],
   "source": [
    "def get_headline(soup_news):\n",
    "    \n",
    "    selection_class=\"LatestNews-headlineWrapper\"\n",
    "    news_headline=soup_news.find_all('div',{'class':selection_class})\n",
    "    head=[]\n",
    "\n",
    "    for tag in news_headline:\n",
    "        title = tag.find('a',class_=\"LatestNews-headline\").text\n",
    "        head.append(title)\n",
    "        \n",
    "        \n",
    "    return head"
   ]
  },
  {
   "cell_type": "code",
   "execution_count": 52,
   "id": "755d17a7",
   "metadata": {},
   "outputs": [],
   "source": [
    "head = get_headline(soup_news)"
   ]
  },
  {
   "cell_type": "code",
   "execution_count": 53,
   "id": "0b593bf9",
   "metadata": {},
   "outputs": [
    {
     "data": {
      "text/plain": [
       "[\"Cramer's lightning round: AST SpaceMobile is an exciting thing, not a stock\",\n",
       " 'Cramer’s week ahead: Markets will do ‘much better’ during the next four weeks ',\n",
       " 'White House on Taylor Swift Ticketmaster debacle: Capitalism needs competition',\n",
       " \"Pro Picks: Watch all of Friday's big stock calls on CNBC\",\n",
       " \"GOP operative convicted of funneling Russian donation to Trump's 2016 campaign \",\n",
       " 'Theranos founder Elizabeth Holmes sentenced to more than 11 years in prison',\n",
       " 'U.S. shoppers to spend less this holiday season, but Amazon still stands to gain',\n",
       " 'The week in review, the week ahead — Nov. 18, 2022',\n",
       " 'Mark Cuban still believes in crypto despite FTX collapse—here’s why',\n",
       " 'Flu variant that hits kids and seniors harder than usual is dominant in U.S. now',\n",
       " '5 daily practices could up your chances of living to 90',\n",
       " 'Grindr shares soar as LGBTQ dating app debuts after SPAC merger',\n",
       " \"Gilman Hill's Jenny Harrington likes this cheap energy stock with a dividend\",\n",
       " \"Michelle Obama's philosophy on marriage \",\n",
       " 'Frisch concedes to MAGA Republican Boebert in tight race for Colorado House seat',\n",
       " \"Buyers need a 6-figure income to afford a 'typical' home, report finds\",\n",
       " 'What to watch in the markets in the week ahead',\n",
       " 'US AG Garland names Trump special counsel for criminal probes',\n",
       " \"This week's best performers include several retail stocks, one exchange operator\",\n",
       " \"#RIPTwitter is trending. Here's how to download your Twitter archive\",\n",
       " 'AG Garland names special counsel Jack Smith in Trump criminal probes',\n",
       " \"Read Elon Musk's Friday emails to Twitter engineers asking them to come to work\",\n",
       " 'Goldman names Amazon and Etsy as top stocks heading into 2022 holiday season',\n",
       " 'Credit Suisse touts drug stocks as a top place to be. These are our 2 favorites',\n",
       " \"Employers plan 2023 pay increases of 4.6%, slightly above this year's 4.2%\",\n",
       " 'Stocks making the biggest moves midday: Ross Stores, Carvana, Coinbase and more',\n",
       " \"Taylor Swift slams tour ticket fiasco, but doesn't name Ticketmaster\",\n",
       " 'Bob Pisani: Heed the investment wisdom of Jack Bogle and keep it simple ',\n",
       " 'Biden administration asks Supreme Court to lift block on student loan forgiveness',\n",
       " '3 takeaways from our daily meeting: Oil buy, P&G tailwinds, sticking by TJX']"
      ]
     },
     "execution_count": 53,
     "metadata": {},
     "output_type": "execute_result"
    }
   ],
   "source": [
    "head"
   ]
  },
  {
   "cell_type": "code",
   "execution_count": 54,
   "id": "0b869e08",
   "metadata": {},
   "outputs": [],
   "source": [
    "def get_time(soup_news):\n",
    "    \n",
    "    selection_class=\"LatestNews-container\"\n",
    "    news_time=soup_news.find_all('div',{'class':selection_class})\n",
    "    time=[]\n",
    "\n",
    "    for tag in news_time:\n",
    "        title = tag.find('time',class_=\"LatestNews-timestamp\").text\n",
    "        time.append(title)\n",
    "        \n",
    "        \n",
    "    return time"
   ]
  },
  {
   "cell_type": "code",
   "execution_count": 55,
   "id": "dd7fdad6",
   "metadata": {},
   "outputs": [],
   "source": [
    "time = get_time(soup_news)"
   ]
  },
  {
   "cell_type": "code",
   "execution_count": 56,
   "id": "8a3ee095",
   "metadata": {},
   "outputs": [
    {
     "data": {
      "text/plain": [
       "['22 Min Ago',\n",
       " '56 Min Ago',\n",
       " '2 Hours Ago',\n",
       " '3 Hours Ago',\n",
       " '3 Hours Ago',\n",
       " '3 Hours Ago',\n",
       " '3 Hours Ago',\n",
       " '3 Hours Ago',\n",
       " '4 Hours Ago',\n",
       " '4 Hours Ago',\n",
       " '4 Hours Ago',\n",
       " '4 Hours Ago',\n",
       " '4 Hours Ago',\n",
       " '5 Hours Ago',\n",
       " '5 Hours Ago',\n",
       " '5 Hours Ago',\n",
       " '6 Hours Ago',\n",
       " '6 Hours Ago',\n",
       " '6 Hours Ago',\n",
       " '6 Hours Ago',\n",
       " '6 Hours Ago',\n",
       " '7 Hours Ago',\n",
       " '7 Hours Ago',\n",
       " '7 Hours Ago',\n",
       " '7 Hours Ago',\n",
       " '7 Hours Ago',\n",
       " '7 Hours Ago',\n",
       " '8 Hours Ago',\n",
       " '8 Hours Ago',\n",
       " '8 Hours Ago']"
      ]
     },
     "execution_count": 56,
     "metadata": {},
     "output_type": "execute_result"
    }
   ],
   "source": [
    "time"
   ]
  },
  {
   "cell_type": "code",
   "execution_count": 57,
   "id": "ac9dbe4e",
   "metadata": {},
   "outputs": [
    {
     "data": {
      "text/html": [
       "<div>\n",
       "<style scoped>\n",
       "    .dataframe tbody tr th:only-of-type {\n",
       "        vertical-align: middle;\n",
       "    }\n",
       "\n",
       "    .dataframe tbody tr th {\n",
       "        vertical-align: top;\n",
       "    }\n",
       "\n",
       "    .dataframe thead th {\n",
       "        text-align: right;\n",
       "    }\n",
       "</style>\n",
       "<table border=\"1\" class=\"dataframe\">\n",
       "  <thead>\n",
       "    <tr style=\"text-align: right;\">\n",
       "      <th></th>\n",
       "      <th>Headline</th>\n",
       "      <th>Time</th>\n",
       "    </tr>\n",
       "  </thead>\n",
       "  <tbody>\n",
       "    <tr>\n",
       "      <th>0</th>\n",
       "      <td>Cramer's lightning round: AST SpaceMobile is a...</td>\n",
       "      <td>22 Min Ago</td>\n",
       "    </tr>\n",
       "    <tr>\n",
       "      <th>1</th>\n",
       "      <td>Cramer’s week ahead: Markets will do ‘much bet...</td>\n",
       "      <td>56 Min Ago</td>\n",
       "    </tr>\n",
       "    <tr>\n",
       "      <th>2</th>\n",
       "      <td>White House on Taylor Swift Ticketmaster debac...</td>\n",
       "      <td>2 Hours Ago</td>\n",
       "    </tr>\n",
       "    <tr>\n",
       "      <th>3</th>\n",
       "      <td>Pro Picks: Watch all of Friday's big stock cal...</td>\n",
       "      <td>3 Hours Ago</td>\n",
       "    </tr>\n",
       "    <tr>\n",
       "      <th>4</th>\n",
       "      <td>GOP operative convicted of funneling Russian d...</td>\n",
       "      <td>3 Hours Ago</td>\n",
       "    </tr>\n",
       "  </tbody>\n",
       "</table>\n",
       "</div>"
      ],
      "text/plain": [
       "                                            Headline         Time\n",
       "0  Cramer's lightning round: AST SpaceMobile is a...   22 Min Ago\n",
       "1  Cramer’s week ahead: Markets will do ‘much bet...   56 Min Ago\n",
       "2  White House on Taylor Swift Ticketmaster debac...  2 Hours Ago\n",
       "3  Pro Picks: Watch all of Friday's big stock cal...  3 Hours Ago\n",
       "4  GOP operative convicted of funneling Russian d...  3 Hours Ago"
      ]
     },
     "execution_count": 57,
     "metadata": {},
     "output_type": "execute_result"
    }
   ],
   "source": [
    "df = pd.DataFrame({'Headline':head,'Time':time})\n",
    "\n",
    "df.head()"
   ]
  },
  {
   "cell_type": "markdown",
   "id": "3ea31005",
   "metadata": {},
   "source": [
    "## 8) Write a python program to scrape the details of most downloaded articles from AI in last 90 days.\n",
    "\n",
    "## i) Paper Title\n",
    "## ii) Authors\n",
    "## iii) Published Date\n",
    "## iv) Paper URL"
   ]
  },
  {
   "cell_type": "code",
   "execution_count": 58,
   "id": "cfcbae6e",
   "metadata": {},
   "outputs": [
    {
     "data": {
      "text/plain": [
       "<Response [200]>"
      ]
     },
     "execution_count": 58,
     "metadata": {},
     "output_type": "execute_result"
    }
   ],
   "source": [
    "page_ai = requests.get('https://www.journals.elsevier.com/artificial-intelligence/most-downloaded-articles')\n",
    "\n",
    "page_ai"
   ]
  },
  {
   "cell_type": "code",
   "execution_count": 59,
   "id": "df9c9908",
   "metadata": {},
   "outputs": [],
   "source": [
    "soup_ai = BeautifulSoup(page_ai.content,\"html.parser\")\n"
   ]
  },
  {
   "cell_type": "code",
   "execution_count": 60,
   "id": "92b0e49b",
   "metadata": {},
   "outputs": [],
   "source": [
    "title_p=[]\n",
    "\n",
    "for i in soup_ai.find_all('h2',class_=\"sc-1qrq3sd-1 gRGSUS sc-1nmom32-0 sc-1nmom32-1 btcbYu goSKRg\"):\n",
    "        title_p.append(i.text)"
   ]
  },
  {
   "cell_type": "code",
   "execution_count": 61,
   "id": "d1965bb0",
   "metadata": {},
   "outputs": [
    {
     "data": {
      "text/plain": [
       "['Reward is enough',\n",
       " 'Making sense of raw input',\n",
       " 'Law and logic: A review from an argumentation perspective',\n",
       " 'Creativity and artificial intelligence',\n",
       " 'Artificial cognition for social human–robot interaction: An implementation',\n",
       " 'Explanation in artificial intelligence: Insights from the social sciences',\n",
       " 'Making sense of sensory input',\n",
       " 'Conflict-based search for optimal multi-agent pathfinding',\n",
       " 'Between MDPs and semi-MDPs: A framework for temporal abstraction in reinforcement learning',\n",
       " 'The Hanabi challenge: A new frontier for AI research',\n",
       " 'Evaluating XAI: A comparison of rule-based and example-based explanations',\n",
       " 'Argumentation in artificial intelligence',\n",
       " 'Algorithms for computing strategies in two-player simultaneous move games',\n",
       " 'Multiple object tracking: A literature review',\n",
       " 'Selection of relevant features and examples in machine learning',\n",
       " 'A survey of inverse reinforcement learning: Challenges, methods and progress',\n",
       " 'Explaining individual predictions when features are dependent: More accurate approximations to Shapley values',\n",
       " 'A review of possible effects of cognitive biases on interpretation of rule-based machine learning models',\n",
       " 'Integrating social power into the decision-making of cognitive agents',\n",
       " \"“That's (not) the output I expected!” On the role of end user expectations in creating explanations of AI systems\",\n",
       " 'Explaining black-box classifiers using post-hoc explanations-by-example: The effect of explanations and error-rates in XAI user studies',\n",
       " 'Algorithm runtime prediction: Methods & evaluation',\n",
       " 'Wrappers for feature subset selection',\n",
       " 'Commonsense visual sensemaking for autonomous driving – On generalised neurosymbolic online abduction integrating vision and semantics',\n",
       " 'Quantum computation, quantum theory and AI']"
      ]
     },
     "execution_count": 61,
     "metadata": {},
     "output_type": "execute_result"
    }
   ],
   "source": [
    "title_p "
   ]
  },
  {
   "cell_type": "code",
   "execution_count": 62,
   "id": "cd823198",
   "metadata": {},
   "outputs": [],
   "source": [
    "author=[]\n",
    "\n",
    "for i in soup_ai.find_all('span',class_=\"sc-1w3fpd7-0 dnCnAO\"):\n",
    "        author.append(i.text)"
   ]
  },
  {
   "cell_type": "code",
   "execution_count": 63,
   "id": "15ca8e93",
   "metadata": {},
   "outputs": [
    {
     "data": {
      "text/plain": [
       "['Silver, David, Singh, Satinder, Precup, Doina, Sutton, Richard S. ',\n",
       " 'Evans, Richard, Bošnjak, Matko and 5 more',\n",
       " 'Prakken, Henry, Sartor, Giovanni ',\n",
       " 'Boden, Margaret A. ',\n",
       " 'Lemaignan, Séverin, Warnier, Mathieu and 3 more',\n",
       " 'Miller, Tim ',\n",
       " 'Evans, Richard, Hernández-Orallo, José and 3 more',\n",
       " 'Sharon, Guni, Stern, Roni, Felner, Ariel, Sturtevant, Nathan R. ',\n",
       " 'Sutton, Richard S., Precup, Doina, Singh, Satinder ',\n",
       " 'Bard, Nolan, Foerster, Jakob N. and 13 more',\n",
       " 'van der Waa, Jasper, Nieuwburg, Elisabeth, Cremers, Anita, Neerincx, Mark ',\n",
       " 'Bench-Capon, T.J.M., Dunne, Paul E. ',\n",
       " 'Bošanský, Branislav, Lisý, Viliam and 3 more',\n",
       " 'Luo, Wenhan, Xing, Junliang and 4 more',\n",
       " 'Blum, Avrim L., Langley, Pat ',\n",
       " 'Arora, Saurabh, Doshi, Prashant ',\n",
       " 'Aas, Kjersti, Jullum, Martin, Løland, Anders ',\n",
       " 'Kliegr, Tomáš, Bahník, Štěpán, Fürnkranz, Johannes ',\n",
       " 'Pereira, Gonçalo, Prada, Rui, Santos, Pedro A. ',\n",
       " 'Riveiro, Maria, Thill, Serge ',\n",
       " 'Kenny, Eoin M., Ford, Courtney, Quinn, Molly, Keane, Mark T. ',\n",
       " 'Hutter, Frank, Xu, Lin, Hoos, Holger H., Leyton-Brown, Kevin ',\n",
       " 'Kohavi, Ron, John, George H. ',\n",
       " 'Suchan, Jakob, Bhatt, Mehul, Varadarajan, Srikrishna ',\n",
       " 'Ying, Mingsheng ']"
      ]
     },
     "execution_count": 63,
     "metadata": {},
     "output_type": "execute_result"
    }
   ],
   "source": [
    "author"
   ]
  },
  {
   "cell_type": "code",
   "execution_count": 64,
   "id": "55a69a5a",
   "metadata": {},
   "outputs": [],
   "source": [
    "release=[]\n",
    "\n",
    "for i in soup_ai.find_all('span',class_=\"sc-1thf9ly-2 dvggWt\"):\n",
    "        release.append(i.text)"
   ]
  },
  {
   "cell_type": "code",
   "execution_count": 65,
   "id": "a551ccb4",
   "metadata": {},
   "outputs": [
    {
     "data": {
      "text/plain": [
       "['October 2021',\n",
       " 'October 2021',\n",
       " 'October 2015',\n",
       " 'August 1998',\n",
       " 'June 2017',\n",
       " 'February 2019',\n",
       " 'April 2021',\n",
       " 'February 2015',\n",
       " 'August 1999',\n",
       " 'March 2020',\n",
       " 'February 2021',\n",
       " 'October 2007',\n",
       " 'August 2016',\n",
       " 'April 2021',\n",
       " 'December 1997',\n",
       " 'August 2021',\n",
       " 'September 2021',\n",
       " 'June 2021',\n",
       " 'December 2016',\n",
       " 'September 2021',\n",
       " 'May 2021',\n",
       " 'January 2014',\n",
       " 'December 1997',\n",
       " 'October 2021',\n",
       " 'February 2010']"
      ]
     },
     "execution_count": 65,
     "metadata": {},
     "output_type": "execute_result"
    }
   ],
   "source": [
    "release"
   ]
  },
  {
   "cell_type": "code",
   "execution_count": 66,
   "id": "c702a39f",
   "metadata": {},
   "outputs": [
    {
     "data": {
      "text/html": [
       "<div>\n",
       "<style scoped>\n",
       "    .dataframe tbody tr th:only-of-type {\n",
       "        vertical-align: middle;\n",
       "    }\n",
       "\n",
       "    .dataframe tbody tr th {\n",
       "        vertical-align: top;\n",
       "    }\n",
       "\n",
       "    .dataframe thead th {\n",
       "        text-align: right;\n",
       "    }\n",
       "</style>\n",
       "<table border=\"1\" class=\"dataframe\">\n",
       "  <thead>\n",
       "    <tr style=\"text-align: right;\">\n",
       "      <th></th>\n",
       "      <th>Paper</th>\n",
       "      <th>Author</th>\n",
       "      <th>Release_date</th>\n",
       "    </tr>\n",
       "  </thead>\n",
       "  <tbody>\n",
       "    <tr>\n",
       "      <th>0</th>\n",
       "      <td>Reward is enough</td>\n",
       "      <td>Silver, David, Singh, Satinder, Precup, Doina,...</td>\n",
       "      <td>October 2021</td>\n",
       "    </tr>\n",
       "    <tr>\n",
       "      <th>1</th>\n",
       "      <td>Making sense of raw input</td>\n",
       "      <td>Evans, Richard, Bošnjak, Matko and 5 more</td>\n",
       "      <td>October 2021</td>\n",
       "    </tr>\n",
       "    <tr>\n",
       "      <th>2</th>\n",
       "      <td>Law and logic: A review from an argumentation ...</td>\n",
       "      <td>Prakken, Henry, Sartor, Giovanni</td>\n",
       "      <td>October 2015</td>\n",
       "    </tr>\n",
       "    <tr>\n",
       "      <th>3</th>\n",
       "      <td>Creativity and artificial intelligence</td>\n",
       "      <td>Boden, Margaret A.</td>\n",
       "      <td>August 1998</td>\n",
       "    </tr>\n",
       "    <tr>\n",
       "      <th>4</th>\n",
       "      <td>Artificial cognition for social human–robot in...</td>\n",
       "      <td>Lemaignan, Séverin, Warnier, Mathieu and 3 more</td>\n",
       "      <td>June 2017</td>\n",
       "    </tr>\n",
       "  </tbody>\n",
       "</table>\n",
       "</div>"
      ],
      "text/plain": [
       "                                               Paper  \\\n",
       "0                                   Reward is enough   \n",
       "1                          Making sense of raw input   \n",
       "2  Law and logic: A review from an argumentation ...   \n",
       "3             Creativity and artificial intelligence   \n",
       "4  Artificial cognition for social human–robot in...   \n",
       "\n",
       "                                              Author  Release_date  \n",
       "0  Silver, David, Singh, Satinder, Precup, Doina,...  October 2021  \n",
       "1          Evans, Richard, Bošnjak, Matko and 5 more  October 2021  \n",
       "2                  Prakken, Henry, Sartor, Giovanni   October 2015  \n",
       "3                                Boden, Margaret A.    August 1998  \n",
       "4    Lemaignan, Séverin, Warnier, Mathieu and 3 more     June 2017  "
      ]
     },
     "execution_count": 66,
     "metadata": {},
     "output_type": "execute_result"
    }
   ],
   "source": [
    "df = pd.DataFrame({'Paper':title_p,'Author':author,'Release_date' :release })\n",
    "\n",
    "df.head()"
   ]
  },
  {
   "cell_type": "markdown",
   "id": "c755a472",
   "metadata": {},
   "source": [
    "## 9) Write a python program to scrape mentioned details from dineout.co.in :\n",
    "## i) Restaurant name\n",
    "## ii) Cuisine\n",
    "## iii) Location\n",
    "## iv) Ratings\n",
    "## v) Image URL"
   ]
  },
  {
   "cell_type": "code",
   "execution_count": 67,
   "id": "059fc5fd",
   "metadata": {},
   "outputs": [
    {
     "data": {
      "text/plain": [
       "<Response [200]>"
      ]
     },
     "execution_count": 67,
     "metadata": {},
     "output_type": "execute_result"
    }
   ],
   "source": [
    "page_dine = requests.get('https://www.dineout.co.in/delhi-restaurants/buffet-special')\n",
    "\n",
    "page_dine"
   ]
  },
  {
   "cell_type": "code",
   "execution_count": 68,
   "id": "eeb5bab2",
   "metadata": {},
   "outputs": [],
   "source": [
    "soup_dine = BeautifulSoup(page_dine.content,\"html.parser\")"
   ]
  },
  {
   "cell_type": "code",
   "execution_count": 69,
   "id": "def1f178",
   "metadata": {},
   "outputs": [],
   "source": [
    "title=[]\n",
    "\n",
    "for i in soup_dine.find_all('a',class_=\"restnt-name ellipsis\"):\n",
    "        title.append(i.text)"
   ]
  },
  {
   "cell_type": "code",
   "execution_count": 70,
   "id": "537fe419",
   "metadata": {},
   "outputs": [
    {
     "data": {
      "text/plain": [
       "['Castle Barbeque',\n",
       " 'Jungle Jamboree',\n",
       " 'Castle Barbeque',\n",
       " 'Cafe Knosh',\n",
       " 'The Barbeque Company',\n",
       " 'India Grill',\n",
       " 'Delhi Barbeque',\n",
       " 'The Monarch - Bar Be Que Village',\n",
       " 'Indian Grill Room']"
      ]
     },
     "execution_count": 70,
     "metadata": {},
     "output_type": "execute_result"
    }
   ],
   "source": [
    "title"
   ]
  },
  {
   "cell_type": "code",
   "execution_count": 71,
   "id": "362af03b",
   "metadata": {},
   "outputs": [],
   "source": [
    "cuisine=[]\n",
    "\n",
    "for i in soup_dine.find_all('span',class_=\"double-line-ellipsis\"):\n",
    "        cuisine.append(i.text.split(\"|\")[1])"
   ]
  },
  {
   "cell_type": "code",
   "execution_count": 72,
   "id": "0d7f37a2",
   "metadata": {},
   "outputs": [
    {
     "data": {
      "text/plain": [
       "[' Chinese, North Indian',\n",
       " ' North Indian, Asian, Italian',\n",
       " ' Chinese, North Indian',\n",
       " ' Italian, Continental',\n",
       " ' North Indian, Chinese',\n",
       " ' North Indian, Italian',\n",
       " ' North Indian',\n",
       " ' North Indian',\n",
       " ' North Indian, Mughlai']"
      ]
     },
     "execution_count": 72,
     "metadata": {},
     "output_type": "execute_result"
    }
   ],
   "source": [
    "cuisine"
   ]
  },
  {
   "cell_type": "code",
   "execution_count": 73,
   "id": "2f2955f6",
   "metadata": {},
   "outputs": [],
   "source": [
    "loc=[]\n",
    "\n",
    "for i in soup_dine.find_all('div',class_=\"restnt-loc ellipsis\"):\n",
    "        loc.append(i.text)"
   ]
  },
  {
   "cell_type": "code",
   "execution_count": 74,
   "id": "311a6d89",
   "metadata": {},
   "outputs": [
    {
     "data": {
      "text/plain": [
       "['Connaught Place, Central Delhi',\n",
       " '3CS Mall,Lajpat Nagar - 3, South Delhi',\n",
       " 'Pacific Mall,Tagore Garden, West Delhi',\n",
       " 'The Leela Ambience Convention Hotel,Shahdara, East Delhi',\n",
       " 'Gardens Galleria,Sector 38A, Noida',\n",
       " 'Hilton Garden Inn,Saket, South Delhi',\n",
       " 'Taurus Sarovar Portico,Mahipalpur, South Delhi',\n",
       " 'Indirapuram Habitat Centre,Indirapuram, Ghaziabad',\n",
       " 'Suncity Business Tower,Golf Course Road, Gurgaon']"
      ]
     },
     "execution_count": 74,
     "metadata": {},
     "output_type": "execute_result"
    }
   ],
   "source": [
    "loc"
   ]
  },
  {
   "cell_type": "code",
   "execution_count": 75,
   "id": "811957bb",
   "metadata": {},
   "outputs": [],
   "source": [
    "rating=[]\n",
    "\n",
    "for i in soup_dine.find_all('div',class_=\"restnt-rating rating-4\"):\n",
    "        rating.append(i.text)"
   ]
  },
  {
   "cell_type": "code",
   "execution_count": 76,
   "id": "54479347",
   "metadata": {},
   "outputs": [
    {
     "data": {
      "text/plain": [
       "['4.1', '3.9', '3.9', '4.3', '4', '3.9', '3.6', '3.8', '4.3']"
      ]
     },
     "execution_count": 76,
     "metadata": {},
     "output_type": "execute_result"
    }
   ],
   "source": [
    "rating"
   ]
  },
  {
   "cell_type": "code",
   "execution_count": 77,
   "id": "a7153746",
   "metadata": {},
   "outputs": [],
   "source": [
    "img =[]\n",
    "\n",
    "for i in soup_dine.find_all('img',class_=\"no-img\"):\n",
    "        img.append(i.get(\"data-src\"))"
   ]
  },
  {
   "cell_type": "code",
   "execution_count": 78,
   "id": "3ff82a46",
   "metadata": {},
   "outputs": [
    {
     "data": {
      "text/plain": [
       "['https://im1.dineout.co.in/images/uploads/restaurant/sharpen/8/k/b/p86792-16062953735fbe1f4d3fb7e.jpg?tr=tr:n-medium',\n",
       " 'https://im1.dineout.co.in/images/uploads/restaurant/sharpen/5/p/m/p59633-166088382462ff137009010.jpg?tr=tr:n-medium',\n",
       " 'https://im1.dineout.co.in/images/uploads/restaurant/sharpen/3/j/o/p38113-15959192065f1fcb666130c.jpg?tr=tr:n-medium',\n",
       " 'https://im1.dineout.co.in/images/uploads/restaurant/sharpen/4/p/m/p406-15438184745c04ccea491bc.jpg?tr=tr:n-medium',\n",
       " 'https://im1.dineout.co.in/images/uploads/restaurant/sharpen/7/p/k/p79307-16051787755fad1597f2bf9.jpg?tr=tr:n-medium',\n",
       " 'https://im1.dineout.co.in/images/uploads/restaurant/sharpen/2/v/t/p2687-1482477169585cce712b90f.jpg?tr=tr:n-medium',\n",
       " 'https://im1.dineout.co.in/images/uploads/restaurant/sharpen/5/d/i/p52501-1661855212630de5eceb6d2.jpg?tr=tr:n-medium',\n",
       " 'https://im1.dineout.co.in/images/uploads/restaurant/sharpen/3/n/o/p34822-15599107305cfa594a13c24.jpg?tr=tr:n-medium',\n",
       " 'https://im1.dineout.co.in/images/uploads/restaurant/sharpen/5/y/f/p549-165000147262590640c0afc.jpg?tr=tr:n-medium']"
      ]
     },
     "execution_count": 78,
     "metadata": {},
     "output_type": "execute_result"
    }
   ],
   "source": [
    "img"
   ]
  },
  {
   "cell_type": "code",
   "execution_count": 79,
   "id": "26afe40f",
   "metadata": {},
   "outputs": [
    {
     "data": {
      "text/html": [
       "<div>\n",
       "<style scoped>\n",
       "    .dataframe tbody tr th:only-of-type {\n",
       "        vertical-align: middle;\n",
       "    }\n",
       "\n",
       "    .dataframe tbody tr th {\n",
       "        vertical-align: top;\n",
       "    }\n",
       "\n",
       "    .dataframe thead th {\n",
       "        text-align: right;\n",
       "    }\n",
       "</style>\n",
       "<table border=\"1\" class=\"dataframe\">\n",
       "  <thead>\n",
       "    <tr style=\"text-align: right;\">\n",
       "      <th></th>\n",
       "      <th>Restaurant_Name</th>\n",
       "      <th>Cuisine</th>\n",
       "      <th>Location</th>\n",
       "      <th>Rating</th>\n",
       "      <th>Image_URL</th>\n",
       "    </tr>\n",
       "  </thead>\n",
       "  <tbody>\n",
       "    <tr>\n",
       "      <th>0</th>\n",
       "      <td>Castle Barbeque</td>\n",
       "      <td>Chinese, North Indian</td>\n",
       "      <td>Connaught Place, Central Delhi</td>\n",
       "      <td>4.1</td>\n",
       "      <td>https://im1.dineout.co.in/images/uploads/resta...</td>\n",
       "    </tr>\n",
       "    <tr>\n",
       "      <th>1</th>\n",
       "      <td>Jungle Jamboree</td>\n",
       "      <td>North Indian, Asian, Italian</td>\n",
       "      <td>3CS Mall,Lajpat Nagar - 3, South Delhi</td>\n",
       "      <td>3.9</td>\n",
       "      <td>https://im1.dineout.co.in/images/uploads/resta...</td>\n",
       "    </tr>\n",
       "    <tr>\n",
       "      <th>2</th>\n",
       "      <td>Castle Barbeque</td>\n",
       "      <td>Chinese, North Indian</td>\n",
       "      <td>Pacific Mall,Tagore Garden, West Delhi</td>\n",
       "      <td>3.9</td>\n",
       "      <td>https://im1.dineout.co.in/images/uploads/resta...</td>\n",
       "    </tr>\n",
       "    <tr>\n",
       "      <th>3</th>\n",
       "      <td>Cafe Knosh</td>\n",
       "      <td>Italian, Continental</td>\n",
       "      <td>The Leela Ambience Convention Hotel,Shahdara, ...</td>\n",
       "      <td>4.3</td>\n",
       "      <td>https://im1.dineout.co.in/images/uploads/resta...</td>\n",
       "    </tr>\n",
       "    <tr>\n",
       "      <th>4</th>\n",
       "      <td>The Barbeque Company</td>\n",
       "      <td>North Indian, Chinese</td>\n",
       "      <td>Gardens Galleria,Sector 38A, Noida</td>\n",
       "      <td>4</td>\n",
       "      <td>https://im1.dineout.co.in/images/uploads/resta...</td>\n",
       "    </tr>\n",
       "  </tbody>\n",
       "</table>\n",
       "</div>"
      ],
      "text/plain": [
       "        Restaurant_Name                        Cuisine  \\\n",
       "0       Castle Barbeque          Chinese, North Indian   \n",
       "1       Jungle Jamboree   North Indian, Asian, Italian   \n",
       "2       Castle Barbeque          Chinese, North Indian   \n",
       "3            Cafe Knosh           Italian, Continental   \n",
       "4  The Barbeque Company          North Indian, Chinese   \n",
       "\n",
       "                                            Location Rating  \\\n",
       "0                     Connaught Place, Central Delhi    4.1   \n",
       "1             3CS Mall,Lajpat Nagar - 3, South Delhi    3.9   \n",
       "2             Pacific Mall,Tagore Garden, West Delhi    3.9   \n",
       "3  The Leela Ambience Convention Hotel,Shahdara, ...    4.3   \n",
       "4                 Gardens Galleria,Sector 38A, Noida      4   \n",
       "\n",
       "                                           Image_URL  \n",
       "0  https://im1.dineout.co.in/images/uploads/resta...  \n",
       "1  https://im1.dineout.co.in/images/uploads/resta...  \n",
       "2  https://im1.dineout.co.in/images/uploads/resta...  \n",
       "3  https://im1.dineout.co.in/images/uploads/resta...  \n",
       "4  https://im1.dineout.co.in/images/uploads/resta...  "
      ]
     },
     "execution_count": 79,
     "metadata": {},
     "output_type": "execute_result"
    }
   ],
   "source": [
    "df = pd.DataFrame({'Restaurant_Name':title,'Cuisine':cuisine,'Location' :loc,'Rating':rating,'Image_URL':img })\n",
    "\n",
    "df.head()"
   ]
  },
  {
   "cell_type": "markdown",
   "id": "03dd4c2b",
   "metadata": {},
   "source": [
    "## 10) Write a python program to scrape the details of top publications from Google Scholar from\n",
    "\n",
    "## i) Rank\n",
    "## ii) Publication\n",
    "## iii) h5-index\n",
    "## iv) h5-median"
   ]
  },
  {
   "cell_type": "code",
   "execution_count": 80,
   "id": "d14256a0",
   "metadata": {},
   "outputs": [
    {
     "data": {
      "text/plain": [
       "<Response [200]>"
      ]
     },
     "execution_count": 80,
     "metadata": {},
     "output_type": "execute_result"
    }
   ],
   "source": [
    "page_gs = requests.get('https://scholar.google.com/citations?view_op=top_venues&hl=en&vq=eng')\n",
    "\n",
    "page_gs"
   ]
  },
  {
   "cell_type": "code",
   "execution_count": 81,
   "id": "348040d6",
   "metadata": {},
   "outputs": [],
   "source": [
    "soup_gs = BeautifulSoup(page_gs.content,\"html.parser\")"
   ]
  },
  {
   "cell_type": "code",
   "execution_count": 82,
   "id": "d3aae02d",
   "metadata": {},
   "outputs": [],
   "source": [
    "table = soup_gs.find_all('table')"
   ]
  },
  {
   "cell_type": "code",
   "execution_count": 83,
   "id": "afd95ac3",
   "metadata": {},
   "outputs": [
    {
     "data": {
      "text/html": [
       "<div>\n",
       "<style scoped>\n",
       "    .dataframe tbody tr th:only-of-type {\n",
       "        vertical-align: middle;\n",
       "    }\n",
       "\n",
       "    .dataframe tbody tr th {\n",
       "        vertical-align: top;\n",
       "    }\n",
       "\n",
       "    .dataframe thead th {\n",
       "        text-align: right;\n",
       "    }\n",
       "</style>\n",
       "<table border=\"1\" class=\"dataframe\">\n",
       "  <thead>\n",
       "    <tr style=\"text-align: right;\">\n",
       "      <th></th>\n",
       "      <th>Unnamed: 0</th>\n",
       "      <th>Publication</th>\n",
       "      <th>h5-index</th>\n",
       "      <th>h5-median</th>\n",
       "    </tr>\n",
       "  </thead>\n",
       "  <tbody>\n",
       "    <tr>\n",
       "      <th>0</th>\n",
       "      <td>1.0</td>\n",
       "      <td>IEEE/CVF Conference on Computer Vision and Pat...</td>\n",
       "      <td>389</td>\n",
       "      <td>627</td>\n",
       "    </tr>\n",
       "    <tr>\n",
       "      <th>1</th>\n",
       "      <td>2.0</td>\n",
       "      <td>Advanced Materials</td>\n",
       "      <td>312</td>\n",
       "      <td>418</td>\n",
       "    </tr>\n",
       "    <tr>\n",
       "      <th>2</th>\n",
       "      <td>3.0</td>\n",
       "      <td>International Conference on Learning Represent...</td>\n",
       "      <td>286</td>\n",
       "      <td>533</td>\n",
       "    </tr>\n",
       "    <tr>\n",
       "      <th>3</th>\n",
       "      <td>4.0</td>\n",
       "      <td>Neural Information Processing Systems</td>\n",
       "      <td>278</td>\n",
       "      <td>436</td>\n",
       "    </tr>\n",
       "    <tr>\n",
       "      <th>4</th>\n",
       "      <td>5.0</td>\n",
       "      <td>IEEE/CVF International Conference on Computer ...</td>\n",
       "      <td>239</td>\n",
       "      <td>415</td>\n",
       "    </tr>\n",
       "    <tr>\n",
       "      <th>5</th>\n",
       "      <td>6.0</td>\n",
       "      <td>International Conference on Machine Learning</td>\n",
       "      <td>237</td>\n",
       "      <td>421</td>\n",
       "    </tr>\n",
       "    <tr>\n",
       "      <th>6</th>\n",
       "      <td>7.0</td>\n",
       "      <td>Renewable and Sustainable Energy Reviews</td>\n",
       "      <td>227</td>\n",
       "      <td>324</td>\n",
       "    </tr>\n",
       "    <tr>\n",
       "      <th>7</th>\n",
       "      <td>8.0</td>\n",
       "      <td>Advanced Energy Materials</td>\n",
       "      <td>220</td>\n",
       "      <td>300</td>\n",
       "    </tr>\n",
       "    <tr>\n",
       "      <th>8</th>\n",
       "      <td>9.0</td>\n",
       "      <td>ACS Nano</td>\n",
       "      <td>211</td>\n",
       "      <td>277</td>\n",
       "    </tr>\n",
       "    <tr>\n",
       "      <th>9</th>\n",
       "      <td>10.0</td>\n",
       "      <td>Journal of Cleaner Production</td>\n",
       "      <td>211</td>\n",
       "      <td>273</td>\n",
       "    </tr>\n",
       "  </tbody>\n",
       "</table>\n",
       "</div>"
      ],
      "text/plain": [
       "   Unnamed: 0                                        Publication  h5-index  \\\n",
       "0         1.0  IEEE/CVF Conference on Computer Vision and Pat...       389   \n",
       "1         2.0                                 Advanced Materials       312   \n",
       "2         3.0  International Conference on Learning Represent...       286   \n",
       "3         4.0              Neural Information Processing Systems       278   \n",
       "4         5.0  IEEE/CVF International Conference on Computer ...       239   \n",
       "5         6.0       International Conference on Machine Learning       237   \n",
       "6         7.0           Renewable and Sustainable Energy Reviews       227   \n",
       "7         8.0                          Advanced Energy Materials       220   \n",
       "8         9.0                                           ACS Nano       211   \n",
       "9        10.0                      Journal of Cleaner Production       211   \n",
       "\n",
       "   h5-median  \n",
       "0        627  \n",
       "1        418  \n",
       "2        533  \n",
       "3        436  \n",
       "4        415  \n",
       "5        421  \n",
       "6        324  \n",
       "7        300  \n",
       "8        277  \n",
       "9        273  "
      ]
     },
     "execution_count": 83,
     "metadata": {},
     "output_type": "execute_result"
    }
   ],
   "source": [
    "df = pd.read_html(str(table))[0]\n",
    "df.head(10)"
   ]
  }
 ],
 "metadata": {
  "kernelspec": {
   "display_name": "Python 3 (ipykernel)",
   "language": "python",
   "name": "python3"
  },
  "language_info": {
   "codemirror_mode": {
    "name": "ipython",
    "version": 3
   },
   "file_extension": ".py",
   "mimetype": "text/x-python",
   "name": "python",
   "nbconvert_exporter": "python",
   "pygments_lexer": "ipython3",
   "version": "3.9.12"
  }
 },
 "nbformat": 4,
 "nbformat_minor": 5
}
